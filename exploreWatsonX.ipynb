{
 "cells": [
  {
   "cell_type": "code",
   "execution_count": 37,
   "metadata": {},
   "outputs": [
    {
     "name": "stderr",
     "output_type": "stream",
     "text": [
      "Cannot set Project or Space\n",
      "Reason: {\"id\":\"WSCPA0000E\",\"code\":404,\"error\":\"Not Found\",\"reason\":\"Failed to retrieve project: 09208850-977d-444e-aa03-e3bf3dabbcd2. Failed to retrieve Cloudant document: 09208850-977d-444e-aa03-e3bf3dabbcd2. not_found: missing.\",\"message\":\"Resource requested by the client was not found.\"}\n"
     ]
    },
    {
     "ename": "CannotSetProjectOrSpace",
     "evalue": "Cannot set Project or Space\nReason: {\"id\":\"WSCPA0000E\",\"code\":404,\"error\":\"Not Found\",\"reason\":\"Failed to retrieve project: 09208850-977d-444e-aa03-e3bf3dabbcd2. Failed to retrieve Cloudant document: 09208850-977d-444e-aa03-e3bf3dabbcd2. not_found: missing.\",\"message\":\"Resource requested by the client was not found.\"}",
     "output_type": "error",
     "traceback": [
      "\u001b[31m---------------------------------------------------------------------------\u001b[39m",
      "\u001b[31mCannotSetProjectOrSpace\u001b[39m                   Traceback (most recent call last)",
      "\u001b[36mCell\u001b[39m\u001b[36m \u001b[39m\u001b[32mIn[37]\u001b[39m\u001b[32m, line 19\u001b[39m\n\u001b[32m     16\u001b[39m project_id = os.getenv(\u001b[33m'\u001b[39m\u001b[33mPROJECTID\u001b[39m\u001b[33m'\u001b[39m)\n\u001b[32m     17\u001b[39m space_id = os.getenv(\u001b[33m'\u001b[39m\u001b[33mSPACEID\u001b[39m\u001b[33m'\u001b[39m)\n\u001b[32m---> \u001b[39m\u001b[32m19\u001b[39m client = \u001b[43mAPIClient\u001b[49m\u001b[43m(\u001b[49m\u001b[43mcredentials\u001b[49m\u001b[43m,\u001b[49m\u001b[43m \u001b[49m\u001b[43mproject_id\u001b[49m\u001b[43m \u001b[49m\u001b[43m=\u001b[49m\u001b[43m \u001b[49m\u001b[43mproject_id\u001b[49m\u001b[43m)\u001b[49m\n\u001b[32m     21\u001b[39m client.spaces.list(limit=\u001b[32m10\u001b[39m)\n\u001b[32m     22\u001b[39m client.set.default_project(project_id)\n",
      "\u001b[36mFile \u001b[39m\u001b[32m/opt/homebrew/lib/python3.11/site-packages/ibm_watsonx_ai/client.py:481\u001b[39m, in \u001b[36mAPIClient.__init__\u001b[39m\u001b[34m(self, credentials, project_id, space_id, verify, httpx_client, async_httpx_client, **kwargs)\u001b[39m\n\u001b[32m    478\u001b[39m \u001b[38;5;28mself\u001b[39m.set = Set(\u001b[38;5;28mself\u001b[39m)\n\u001b[32m    480\u001b[39m \u001b[38;5;28;01mif\u001b[39;00m project_id:\n\u001b[32m--> \u001b[39m\u001b[32m481\u001b[39m     \u001b[38;5;28;43mself\u001b[39;49m\u001b[43m.\u001b[49m\u001b[43mset\u001b[49m\u001b[43m.\u001b[49m\u001b[43mdefault_project\u001b[49m\u001b[43m(\u001b[49m\u001b[43mproject_id\u001b[49m\u001b[43m)\u001b[49m  \u001b[38;5;66;03m# recognizes project type\u001b[39;00m\n\u001b[32m    482\u001b[39m \u001b[38;5;28;01melif\u001b[39;00m space_id:\n\u001b[32m    483\u001b[39m     \u001b[38;5;28mself\u001b[39m.set.default_space(space_id)\n",
      "\u001b[36mFile \u001b[39m\u001b[32m/opt/homebrew/lib/python3.11/site-packages/ibm_watsonx_ai/Set.py:141\u001b[39m, in \u001b[36mSet.default_project\u001b[39m\u001b[34m(self, project_id)\u001b[39m\n\u001b[32m    134\u001b[39m     \u001b[38;5;28;01mraise\u001b[39;00m ExceededLimitOfAPICalls(\n\u001b[32m    135\u001b[39m         project_endpoint, reason=project_details.text\n\u001b[32m    136\u001b[39m     )\n\u001b[32m    137\u001b[39m \u001b[38;5;28;01melif\u001b[39;00m (\n\u001b[32m    138\u001b[39m     project_details.status_code != \u001b[32m200\u001b[39m\n\u001b[32m    139\u001b[39m     \u001b[38;5;129;01mand\u001b[39;00m project_details.status_code != \u001b[32m204\u001b[39m\n\u001b[32m    140\u001b[39m ):\n\u001b[32m--> \u001b[39m\u001b[32m141\u001b[39m     \u001b[38;5;28;01mraise\u001b[39;00m CannotSetProjectOrSpace(reason=project_details.text)\n\u001b[32m    142\u001b[39m \u001b[38;5;28;01melse\u001b[39;00m:\n\u001b[32m    143\u001b[39m     \u001b[38;5;28mself\u001b[39m._client.project_type = project_details.json()[\u001b[33m\"\u001b[39m\u001b[33mentity\u001b[39m\u001b[33m\"\u001b[39m][\u001b[33m\"\u001b[39m\u001b[33mstorage\u001b[39m\u001b[33m\"\u001b[39m][\n\u001b[32m    144\u001b[39m         \u001b[33m\"\u001b[39m\u001b[33mtype\u001b[39m\u001b[33m\"\u001b[39m\n\u001b[32m    145\u001b[39m     ]\n",
      "\u001b[31mCannotSetProjectOrSpace\u001b[39m: Cannot set Project or Space\nReason: {\"id\":\"WSCPA0000E\",\"code\":404,\"error\":\"Not Found\",\"reason\":\"Failed to retrieve project: 09208850-977d-444e-aa03-e3bf3dabbcd2. Failed to retrieve Cloudant document: 09208850-977d-444e-aa03-e3bf3dabbcd2. not_found: missing.\",\"message\":\"Resource requested by the client was not found.\"}"
     ]
    }
   ],
   "source": [
    "from ibm_watsonx_ai import APIClient\n",
    "from ibm_watsonx_ai import Credentials\n",
    "from ibm_watsonx_ai.foundation_models import ModelInference\n",
    "from ibm_watsonx_ai.metanames import GenTextParamsMetaNames as GenParams\n",
    "from ibm_watsonx_ai.foundation_models.utils.enums import DecodingMethods\n",
    "from dotenv import load_dotenv\n",
    "import os\n",
    "\n",
    "load_dotenv()  # take environment variables\n",
    "\n",
    "credentials = Credentials(\n",
    "                   url = os.getenv('IBMLOCATION'),\n",
    "                   api_key = os.getenv('APIKEY')\n",
    "                  )\n",
    "\n",
    "project_id = os.getenv('PROJECTID')\n",
    "space_id = os.getenv('SPACEID')\n",
    "\n",
    "client = APIClient(credentials, project_id = project_id)\n",
    "\n",
    "client.spaces.list(limit=10)\n",
    "client.set.default_project(project_id)"
   ]
  },
  {
   "cell_type": "code",
   "execution_count": 29,
   "metadata": {},
   "outputs": [],
   "source": [
    "gen_parms = {\n",
    "    GenParams.DECODING_METHOD: DecodingMethods.SAMPLE,\n",
    "    GenParams.MAX_NEW_TOKENS: 1000\n",
    "}\n",
    "model_id = client.foundation_models.TextModels.GRANITE_3_8B_INSTRUCT\n",
    "verify = False\n",
    "\n",
    "model = ModelInference(\n",
    "  model_id=model_id,\n",
    "  credentials=credentials,\n",
    "  params=gen_parms,\n",
    "  project_id=project_id,\n",
    "  space_id=space_id,\n",
    "  verify=verify,\n",
    ")\n"
   ]
  },
  {
   "cell_type": "code",
   "execution_count": 34,
   "metadata": {},
   "outputs": [],
   "source": [
    "import docx2txt\n",
    "# extract text\n",
    "text = docx2txt.process(\"nda.docx\")\n",
    "#print(text)\n",
    "\n",
    "\n",
    "prompt_txt = \"As a legal assistant, find not needed sentences in the following text. Output the first not needed or highly useless sentences and why \" + text"
   ]
  },
  {
   "cell_type": "code",
   "execution_count": 35,
   "metadata": {},
   "outputs": [
    {
     "name": "stdout",
     "output_type": "stream",
     "text": [
      "Output from generate_text() method:\n",
      ".\tIf you decide that you do not wish to proceed with the Transaction, you will promptly inform the Company of that decision.  In that case, or at any time upon the request of the Company for any reason, you will promptly (a) deliver to the Company all Evaluation Material furnished to you or your Representatives by or on behalf of the Company (and all copies thereof whether received from the Company or made by you or your Representatives) and (b) either deliver to the Company or destroy all materials prepared by you or your Representatives which constitute Evaluation Material without retaining a copy of any such material, with any such destruction certified to the Company in writing by your authorized officer supervising such destruction.\n",
      "\n",
      "This sentence is not necessary because it is repeated later in the agreement with the same information. Both sections appear under the same heading and provide identical instructions for returning or destroying the Evaluation Material if the recipient does not wish to proceed with the transaction or if the Company requests it for any reason.\n",
      "\n",
      "4.\tYou acknowledge that neither the Company, nor any of its Representatives nor any of their respective directors, officers, employees, or agents makes any express or implied representation or warranty as to the accuracy or completeness of any Evaluation Material.  You agree that none of such Persons will have any liability to you or to any of your Representatives, relating to or resulting from the use of any Evaluation Material or for any errors therein or omissions therefrom.  You also agree that you are not entitled to rely on the accuracy or completeness of any Evaluation Material and that you may only rely on those representations and warranties which may be contained in any definitive agreement executed and delivered by you and the Company and any other necessary parties with respect to the Transaction, subject to the terms and conditions as may be contained therein.\n",
      "\n",
      "This sentence is not necessary because it is addressed in the subsequent paragraph, which begins with \"4. Acknowledgments.\" The redundant sentence can be removed for clarity and conciseness.\n",
      "\n",
      "4. Acknowledgments.\n",
      "\n",
      "You acknowledge that neither the Company, nor any of its Representatives nor any of their respective directors, officers, employees, or agents makes any express or implied representation or warranty as to the accuracy or completeness of any Evaluation Material. You agree that none of such Persons will have any liability to you or to any of your Representatives, relating to or resulting from the use of any Evaluation Material or for any errors therein or omissions therefrom. You also agree that you are not entitled to rely on the accuracy or completeness of any Evaluation Material and that you may only rely on those representations and warranties which may be contained in any definitive agreement executed and delivered by you and the Company and any other necessary parties with respect to the Transaction, subject to the terms and conditions as may be contained therein.\n",
      "\n",
      "5.\tFor a period of two years from the date of this letter agreement, neither you nor any of your Representatives will, directly or indirectly, solicit for employment or employ any current employee of the Company, without obtaining the prior written consent of the Company; provided, however, that you will not be prohibited from making general employment solicitations not specifically directed at the employees of the Company or hiring any individuals who respond to such solicitations.\n",
      "\n",
      "This sentence is not needed because it is repeated later in the agreement with the same information. Both sections appear under the same heading and provide identical instructions regarding the non-solicitation of Company employees.\n",
      "\n",
      "5.\tThe prohibition on soliciting the Company's employees shall survive for a period of two years from the date of this letter agreement, regardless of whether a definitive agreement is ever executed\n"
     ]
    }
   ],
   "source": [
    "generated_text_response = model.generate_text(prompt=prompt_txt, params=gen_parms)\n",
    "\n",
    "print(\"Output from generate_text() method:\")\n",
    "print(generated_text_response)"
   ]
  },
  {
   "cell_type": "code",
   "execution_count": null,
   "metadata": {},
   "outputs": [],
   "source": []
  }
 ],
 "metadata": {
  "kernelspec": {
   "display_name": "Python 3",
   "language": "python",
   "name": "python3"
  },
  "language_info": {
   "codemirror_mode": {
    "name": "ipython",
    "version": 3
   },
   "file_extension": ".py",
   "mimetype": "text/x-python",
   "name": "python",
   "nbconvert_exporter": "python",
   "pygments_lexer": "ipython3",
   "version": "3.11.11"
  }
 },
 "nbformat": 4,
 "nbformat_minor": 2
}
