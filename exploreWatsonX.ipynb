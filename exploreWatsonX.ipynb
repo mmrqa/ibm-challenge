{
 "cells": [
  {
   "cell_type": "code",
   "execution_count": 1,
   "metadata": {},
   "outputs": [
    {
     "data": {
      "text/plain": [
       "'SUCCESS'"
      ]
     },
     "execution_count": 1,
     "metadata": {},
     "output_type": "execute_result"
    }
   ],
   "source": [
    "from ibm_watsonx_ai import APIClient\n",
    "from ibm_watsonx_ai import Credentials\n",
    "from ibm_watsonx_ai.foundation_models import ModelInference\n",
    "from ibm_watsonx_ai.metanames import GenTextParamsMetaNames as GenParams\n",
    "from ibm_watsonx_ai.foundation_models.utils.enums import DecodingMethods\n",
    "from dotenv import load_dotenv\n",
    "import os\n",
    "\n",
    "load_dotenv()  # take environment variables\n",
    "\n",
    "credentials = Credentials(\n",
    "                   url = os.getenv('IBMLOCATION'),\n",
    "                   api_key = os.getenv('APIKEY')\n",
    "                  )\n",
    "\n",
    "project_id = os.getenv('PROJECTID')\n",
    "space_id = os.getenv('SPACEID')\n",
    "\n",
    "client = APIClient(credentials, project_id = project_id)\n",
    "\n",
    "client.spaces.list(limit=10)\n",
    "client.set.default_project(project_id)"
   ]
  },
  {
   "cell_type": "code",
   "execution_count": 3,
   "metadata": {},
   "outputs": [],
   "source": [
    "gen_parms = {\n",
    "    GenParams.DECODING_METHOD: DecodingMethods.SAMPLE,\n",
    "    GenParams.MAX_NEW_TOKENS: 1000\n",
    "}\n",
    "model_id = client.foundation_models.TextModels.GRANITE_3_8B_INSTRUCT\n",
    "verify = False\n",
    "\n",
    "model = ModelInference(\n",
    "  model_id=model_id,\n",
    "  credentials=credentials,\n",
    "  params=gen_parms,\n",
    "  project_id=project_id,\n",
    "  space_id=space_id,\n",
    "  verify=verify,\n",
    ")\n"
   ]
  },
  {
   "cell_type": "code",
   "execution_count": 4,
   "metadata": {},
   "outputs": [],
   "source": [
    "import docx2txt\n",
    "# extract text\n",
    "text = docx2txt.process(\"nda.docx\")\n",
    "#print(text)\n",
    "\n",
    "\n",
    "prompt_txt = \"As a legal assistant, find not needed sentences in the following text. Output the first not needed or highly useless sentences and why \" + text"
   ]
  },
  {
   "cell_type": "code",
   "execution_count": 5,
   "metadata": {},
   "outputs": [
    {
     "name": "stdout",
     "output_type": "stream",
     "text": [
      "Output from generate_text() method:\n",
      ".\tIf you decide that you do not wish to proceed with the Transaction, you will promptly inform the Company of that decision.  In that case, or at any time upon the request of the Company for any reason, you will promptly (a) deliver to the Company all Evaluation Material furnished to you or your Representatives by or on behalf of the Company (and all copies thereof whether received from the Company or made by you or your Representatives) and (b) either deliver to the Company or destroy all materials prepared by you or your Representatives which constitute Evaluation Material without retaining a copy of any such material, with any such destruction certified to the Company in writing by your authorized officer supervising such destruction.   Notwithstanding the foregoing, (i) you (a) may retain copies of the Evaluation Material for compliance and regulatory purposes or pursuant to a bona fide document retention policy, and (b) need not destroy electronic archives and back-ups where it would be commercially impracticable to do so, provided that, any such retained Evaluation Material shall remain confidential and subject to the terms hereof for as long as such information is retained, and (ii) you and your Representatives, notwithstanding the return or destruction of the Evaluation Material, will continue to be bound by your obligations of confidentiality and all other obligations under this letter agreement.  \n",
      "\n",
      "15.\tIf any provision of this letter agreement is determined by a court of competent jurisdiction to be invalid, illegal or unenforceable, in whole or in part, the remaining provisions of this letter agreement will remain in full force and effect to the fullest extent permitted by applicable law.\n",
      "\n",
      "The following sentences are not needed in the text:\n",
      "\n",
      "1. \"STRICTLY PRIVATE AND CONFIDENTIAL\" - This statement is redundant as the entire content of the letter is marked as confidential.\n",
      "\n",
      "2. \"16. This letter agreement contains the entire agreement between you and the Company concerning confidentiality of the Evaluation Material.  No modification of this letter agreement or waiver of the terms and conditions hereof will be binding upon you or the Company, unless approved in writing by each of you and the Company.\" - The content of the letter already makes it clear that this is the entire agreement on confidentiality, and there's no modification or waiver mentioned before this clause.\n",
      "\n",
      "These sentences can be removed without affecting the comprehensibility or clarity of the letter agreement.\n"
     ]
    }
   ],
   "source": [
    "generated_text_response = model.generate_text(prompt=prompt_txt, params=gen_parms)\n",
    "\n",
    "print(\"Output from generate_text() method:\")\n",
    "print(generated_text_response)"
   ]
  },
  {
   "cell_type": "code",
   "execution_count": null,
   "metadata": {},
   "outputs": [],
   "source": []
  }
 ],
 "metadata": {
  "kernelspec": {
   "display_name": "Python 3",
   "language": "python",
   "name": "python3"
  },
  "language_info": {
   "codemirror_mode": {
    "name": "ipython",
    "version": 3
   },
   "file_extension": ".py",
   "mimetype": "text/x-python",
   "name": "python",
   "nbconvert_exporter": "python",
   "pygments_lexer": "ipython3",
   "version": "3.11.11"
  }
 },
 "nbformat": 4,
 "nbformat_minor": 2
}
